{
 "cells": [
  {
   "cell_type": "code",
   "execution_count": null,
   "id": "00d9d8c6",
   "metadata": {},
   "outputs": [],
   "source": [
    "import socket, struct, time\n",
    "import matplotlib.pyplot as plt\n",
    "import numpy as np\n",
    "from datetime import datetime\n",
    "import cv2, os, yaml\n",
    "from ipywidgets import IntProgress\n",
    "from IPython.display import display\n",
    "import pandas as pd\n",
    "\n",
    "import sys\n",
    "sys.path.append(\"../../SeeThruFinger\")\n",
    "sys.path.append(\"../../SeeThruFinger/tracker\")\n",
    "sys.path.append(\"../../SeeThruFinger/tracker/model\")\n",
    "from track_anything import TrackingAnything_2\n",
    "from track_anything import parse_augment\n",
    "import requests,json,torch,torchvision,time  \n",
    "from tools.painter import mask_painter"
   ]
  },
  {
   "cell_type": "code",
   "execution_count": null,
   "id": "8c90a52b",
   "metadata": {},
   "outputs": [],
   "source": [
    "folder =\"./checkpoints\"\n",
    "xmem_checkpoint = \"./checkpoints/XMem-s012.pth\"\n",
    "e2fgvi_checkpoint = \"./checkpoints/E2FGVI-HQ-CVPR22.pth\"\n",
    "\n",
    "# initialize sam, xmem, e2fgvi models\n",
    "args = parse_augment()\n",
    "model = TrackingAnything_2(xmem_checkpoint, e2fgvi_checkpoint,None,args)"
   ]
  },
  {
   "cell_type": "code",
   "execution_count": null,
   "id": "c5966863",
   "metadata": {},
   "outputs": [],
   "source": [
    "image_w = 1280\n",
    "image_h = 720\n",
    "cap = cv2.VideoCapture(0)\n",
    "cap.set(3,image_w)\n",
    "cap.set(4,image_h)\n",
    "ret, img = cap.read()"
   ]
  },
  {
   "cell_type": "code",
   "execution_count": null,
   "id": "30b522ba",
   "metadata": {},
   "outputs": [],
   "source": [
    "class ATISensor:\n",
    "    '''The class interface for an ATI Force/Torque sensor.\n",
    "    This class contains all the functions necessary to communicate\n",
    "    with an ATI Force/Torque sensor with a Net F/T interface\n",
    "    using socket.\n",
    "    '''    \n",
    "    def __init__(self, ip='192.168.1.1'):\n",
    "        self.ip = ip\n",
    "        self.port = 49151\n",
    "        self.sock = socket.socket()\n",
    "        time.sleep(0.5) # wait for proper connection\n",
    "        self.sock.connect((self.ip, self.port))\n",
    "        self.READ_CALIBRATION_INFO = bytes([0x01, 0x00, 0x00, 0x00, 0x00, 0x00, 0x00, 0x00, 0x00, 0x00,\n",
    "                              0x00, 0x00, 0x00, 0x00, 0x00, 0x00, 0x00, 0x00, 0x00, 0x00])\n",
    "        self.READ_FORCE = bytes([0x00, 0x00, 0x00, 0x00, 0x00, 0x00, 0x00, 0x00, 0x00, 0x00,\n",
    "                           0x00, 0x00, 0x00, 0x00, 0x00, 0x00, 0x00, 0x00, 0x00, 0x00])\n",
    "        self.RESET_FORCE = bytes([0x00, 0x00, 0x00, 0x00, 0x00, 0x00, 0x00, 0x00, 0x00, 0x00,\n",
    "                           0x00, 0x00, 0x00, 0x00, 0x00, 0x00, 0x00, 0x00, 0x00, 0x01])\n",
    "        self.countsPerForce = 1000000\n",
    "        self.countsPerTorque = 1000000\n",
    "        self.scaleFactors_force = 15260      # ATI Nano25 of SusTech\n",
    "        self.scaleFactors_torque = 92\n",
    "        self.sock.send(self.RESET_FORCE)\n",
    "    def get_measurement(self):\n",
    "        self.sock.send(self.READ_FORCE)\n",
    "        force_info = self.sock.recv(16)\n",
    "        header, status, ForceX, ForceY, ForceZ, TorqueX, TorqueY, TorqueZ = struct.unpack('!2H6h', force_info)\n",
    "        raw = np.array([ForceX, ForceY, ForceZ, TorqueX, TorqueY, TorqueZ])\n",
    "        force_torque = np.concatenate([raw[:3] * self.scaleFactors_force/self.countsPerForce, \n",
    "                                 raw[3:] * self.scaleFactors_torque/self.countsPerTorque])\n",
    "        return force_torque\n",
    "    \n",
    "    def reset(self):\n",
    "        self.sock.send(self.RESET_FORCE)\n",
    "        \n",
    "    def close(self):\n",
    "        self.sock.close()\n",
    "\n",
    "sensor = ATISensor()\n",
    "t0 = time.time()\n",
    "for i in range(1000):\n",
    "    ft = sensor.get_measurement()\n",
    "\n",
    "sensor.close()\n",
    "print(\"The frequency of ATI is \", 1000/(time.time()-t0))"
   ]
  },
  {
   "cell_type": "markdown",
   "id": "307d7519",
   "metadata": {},
   "source": [
    "# Generate mask template for tracking"
   ]
  },
  {
   "cell_type": "code",
   "execution_count": null,
   "id": "da4a7f89",
   "metadata": {},
   "outputs": [],
   "source": [
    "t0 = time.time()  \n",
    "for i in range(30):\n",
    "    ret, img = cap.read()\n",
    "\n",
    "print('Frame rate is ', 30/(time.time()-t0))\n",
    "plt.imshow(img)"
   ]
  },
  {
   "cell_type": "code",
   "execution_count": null,
   "id": "02d700b3",
   "metadata": {},
   "outputs": [],
   "source": [
    "# generate template for tracking\n",
    "\n",
    "gray = cv2.cvtColor(img, cv2.COLOR_BGR2GRAY)\n",
    "mask = cv2.inRange(gray, 70, 255)\n",
    "cv2.imwrite('cam11_template.png',gray)\n",
    "mask[:,:80]=0\n",
    "mask[:,1100:]=0\n",
    "plt.imshow(mask)\n",
    "np.save('cam11_template.npy',mask[::2,::2])"
   ]
  },
  {
   "cell_type": "code",
   "execution_count": null,
   "id": "edb0de57",
   "metadata": {},
   "outputs": [],
   "source": [
    "mask9 = np.load(\"cam9_template.npy\").astype(np.float32)\n",
    "mask10 = np.load(\"cam10_template.npy\")\n",
    "mask11 = np.load(\"cam11_template.npy\")\n",
    "\n",
    "plt.imshow(mask9,cmap='gray', vmin=0, vmax=255)"
   ]
  },
  {
   "cell_type": "code",
   "execution_count": null,
   "id": "c3cd8c18",
   "metadata": {},
   "outputs": [],
   "source": [
    "np.sum(mask9==255)/(mask9.shape[0]*mask9.shape[0])"
   ]
  },
  {
   "cell_type": "markdown",
   "id": "d2c7721e",
   "metadata": {},
   "source": [
    "# collect train/test data for force learning"
   ]
  },
  {
   "cell_type": "code",
   "execution_count": null,
   "id": "63770e4a",
   "metadata": {},
   "outputs": [],
   "source": [
    "sensor = ATISensor()\n",
    "K = 1\n",
    "N = 1000\n",
    "f = IntProgress(min=0, max=N) # instantiate the bar\n",
    "display(f)\n",
    "\n",
    "fts = np.zeros([N,6])\n",
    "timestamps = []\n",
    "\n",
    "for k in range(K):\n",
    "    images = np.zeros([N, 360, 640,3],dtype=np.uint8)\n",
    "    sensor.reset()\n",
    "    print(\"%s Please press the finger...\"%k)\n",
    "    s = time.time()\n",
    "    for i in range(N):  #120*60*10)\n",
    "        timestamps.append(time.time()-s)\n",
    "        ft = sensor.get_measurement()\n",
    "        ret, color_image = cap.read()\n",
    "        images[i,:,:,] = color_image[::2,::2,:]\n",
    "        fts[i, :] = ft\n",
    "        f.value = i\n",
    "    print(\"Saving images...\")\n",
    "    \n",
    "sensor.close()\n",
    "\n",
    "dir = '/home/fang/Documents/Track-Anything/forcesensor/test-2-cam11-blackstick-' + datetime.now().strftime(\"%m%d-%H%M%S\")\n",
    "os.mkdir(dir)\n",
    "\n",
    "for i in range(N):\n",
    "    cv2.imwrite(dir+'/%s.png'%i,images[i,:,:,:])\n",
    "np.save(dir+\"/force_vecs.npy\", fts)\n",
    "np.save(dir+\"/timestamps.npy\",timestamps)\n",
    "print(\"Save to path: \", dir)"
   ]
  },
  {
   "cell_type": "markdown",
   "id": "c3375479",
   "metadata": {},
   "source": [
    "# Read and process train data"
   ]
  },
  {
   "cell_type": "code",
   "execution_count": null,
   "id": "bc23ea82",
   "metadata": {},
   "outputs": [],
   "source": [
    "# dir = '/home/fang/Documents/Track-Anything/forcesensor/train-2-0524-112734/'\n",
    "# dir = '/home/fang/Documents/Track-Anything/forcesensor/train-2-YCB-0524-163343/'\n",
    "# dir = '/home/fang/Documents/Track-Anything/forcesensor/train-3-0525-193122/'\n",
    "# dir = '/home/fang/Documents/Track-Anything/forcesensor/train-2-YCB2-0525-200807/'\n",
    "dir = '/home/fang/Documents/Track-Anything/forcesensor/train-2-cam10-0531-154909/'\n",
    "# dir = '/home/fang/Documents/Track-Anything/forcesensor/train-3-cam10-0531-162540/'\n",
    "\n",
    "N = 10000\n",
    "images = np.zeros([N, 360, 640,3],dtype=np.uint8)\n",
    "painted_images = []\n",
    "masks = []\n",
    "\n",
    "template_mask = np.load(\"cam10_template.npy\")/255\n",
    "model.xmem.clear_memory()\n",
    "img_init = cv2.imread(dir+'0.png')\n",
    "mask, logit = model.xmem.track(img_init, template_mask)\n",
    "for i in range(60):\n",
    "    mask, logit = model.xmem.track(img_init)\n",
    "\n",
    "f = IntProgress(min=0, max=N) # instantiate the bar\n",
    "display(f)\n",
    "for i in range(N):\n",
    "    f.value = i\n",
    "    images[i,:,:,:] = cv2.imread(dir+'%s.png'%i)\n",
    "    mask, logit = model.xmem.track(images[i,:,:,:])\n",
    "    masks.append(mask)\n",
    "    painted_image = mask_painter(images[i], (mask==1).astype('uint8'), mask_color=1+1)\n",
    "    painted_images.append(painted_image) "
   ]
  },
  {
   "cell_type": "code",
   "execution_count": null,
   "id": "e84c9c92",
   "metadata": {},
   "outputs": [],
   "source": [
    "plt.imshow(masks[10])"
   ]
  },
  {
   "cell_type": "code",
   "execution_count": null,
   "id": "73bc91e6",
   "metadata": {},
   "outputs": [],
   "source": [
    "timestamps = np.load(dir+'timestamps.npy')\n",
    "out = cv2.VideoWriter(dir+'inpaint_720-360_cam10_train-2.mov', cv2.VideoWriter_fourcc(*'jpeg'), len(timestamps)/timestamps[-1], (640, 360))\n",
    "for i in range(len(masks)):\n",
    "    out.write(painted_images[i])\n",
    "\n",
    "out.release()\n",
    "np.save(dir+'mask.npy',masks)"
   ]
  },
  {
   "cell_type": "code",
   "execution_count": null,
   "id": "f6972e50",
   "metadata": {},
   "outputs": [],
   "source": [
    "fts = np.load(dir+'/force_vecs.npy')"
   ]
  },
  {
   "cell_type": "code",
   "execution_count": null,
   "id": "70ea9b33",
   "metadata": {},
   "outputs": [],
   "source": [
    "fig, [ax,ax0, ax1, ax2] = plt.subplots(4,1,figsize=(9, 8), dpi=150)\n",
    "ax.plot(fts[:,:2])\n",
    "ax0.plot(fts[:,2])\n",
    "ax1.plot(fts[:,3:5])\n",
    "ax2.plot(fts[:,5])"
   ]
  },
  {
   "cell_type": "markdown",
   "id": "f746af63",
   "metadata": {},
   "source": [
    "# Read and process test data"
   ]
  },
  {
   "cell_type": "code",
   "execution_count": null,
   "id": "a096c8e1",
   "metadata": {},
   "outputs": [],
   "source": [
    "# dir = '/home/fang/Documents/Track-Anything/forcesensor/test-2-cam10-0530-220501/'\n",
    "# dir = '/home/fang/Documents/Track-Anything/forcesensor/test-2-cam11-0531-185016/'\n",
    "dir = '/home/fang/Documents/Track-Anything/forcesensor/test-2-cam11-blackstick-0604-104623/'\n",
    "\n",
    "N = 1000\n",
    "images = np.zeros([N, 360, 640,3],dtype=np.uint8)\n",
    "painted_images = []\n",
    "masks = []\n",
    "\n",
    "template_mask = np.load(\"cam11_template.npy\")/255\n",
    "model.xmem.clear_memory()\n",
    "img_init = cv2.imread(dir+'0.png')\n",
    "mask, logit = model.xmem.track(img_init, template_mask)\n",
    "for i in range(60):\n",
    "    mask, logit = model.xmem.track(img_init)\n",
    "\n",
    "for i in range(N):\n",
    "    images[i,:,:,:] = cv2.imread(dir+'%s.png'%i)\n",
    "    mask, logit = model.xmem.track(images[i,:,:,:])\n",
    "    masks.append(mask)\n",
    "    painted_image = mask_painter(images[i], (mask==1).astype('uint8'), mask_color=1+1)\n",
    "    painted_images.append(painted_image) \n",
    "        \n",
    "timestamps = np.load(dir+'timestamps.npy')\n",
    "out = cv2.VideoWriter(dir+'inpaint_720-360_cam11_test-2-black.mov', cv2.VideoWriter_fourcc(*'jpeg'), len(timestamps)/timestamps[-1], (640, 360))\n",
    "for i in range(len(masks)):\n",
    "    out.write(painted_images[i])\n",
    "\n",
    "out.release()\n",
    "np.save(dir+'mask.npy',masks)"
   ]
  }
 ],
 "metadata": {
  "kernelspec": {
   "display_name": "inpaint",
   "language": "python",
   "name": "inpaint"
  },
  "language_info": {
   "codemirror_mode": {
    "name": "ipython",
    "version": 3
   },
   "file_extension": ".py",
   "mimetype": "text/x-python",
   "name": "python",
   "nbconvert_exporter": "python",
   "pygments_lexer": "ipython3",
   "version": "3.7.13"
  }
 },
 "nbformat": 4,
 "nbformat_minor": 5
}
